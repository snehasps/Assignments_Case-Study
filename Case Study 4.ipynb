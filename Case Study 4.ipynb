{
 "cells": [
  {
   "cell_type": "markdown",
   "id": "eadde94c",
   "metadata": {},
   "source": [
    "# Case Study on Testing of Hypothesis"
   ]
  },
  {
   "cell_type": "markdown",
   "id": "b23475e2",
   "metadata": {},
   "source": [
    "## Introduction"
   ]
  },
  {
   "cell_type": "markdown",
   "id": "e47aac46",
   "metadata": {},
   "source": [
    "Hypothesis testing is used to assess the plausibility of a hypothesis by using sample data.\n",
    "The test provides evidence concerning the plausibility of the hypothesis, given the data.\n",
    "Statistical analysts test a hypothesis by measuring and examining a random sample of the population being analyzed."
   ]
  },
  {
   "cell_type": "markdown",
   "id": "a3342c07",
   "metadata": {},
   "source": [
    "## Scenario"
   ]
  },
  {
   "attachments": {
    "Capture.PNG": {
     "image/png": "[encoded data removed]"
    }
   },
   "cell_type": "markdown",
   "id": "fec730bc",
   "metadata": {},
   "source": [
    "![Capture.PNG](attachment:Capture.PNG)"
   ]
  },
  {
   "cell_type": "markdown",
   "id": "838b96ee",
   "metadata": {},
   "source": [
    "### Importing libraries"
   ]
  },
  {
   "cell_type": "code",
   "execution_count": 1,
   "id": "2a3adf50",
   "metadata": {},
   "outputs": [],
   "source": [
    "import numpy as np\n",
    "import matplotlib.pyplot as plt\n",
    "import pandas as pd \n",
    "import seaborn as sns \n",
    "import scipy.stats as stats\n",
    "import researchpy as rp\n",
    "from scipy.stats import chi2_contingency"
   ]
  },
  {
   "cell_type": "markdown",
   "id": "a0244a13",
   "metadata": {},
   "source": [
    "### Importing the dataset"
   ]
  },
  {
   "cell_type": "code",
   "execution_count": 2,
   "id": "393ae0e9",
   "metadata": {},
   "outputs": [],
   "source": [
    "data = pd.read_csv('Sales_add.csv')"
   ]
  },
  {
   "cell_type": "markdown",
   "id": "0965fd4a",
   "metadata": {},
   "source": [
    "### Analyzing the data"
   ]
  },
  {
   "cell_type": "code",
   "execution_count": 3,
   "id": "693cf86f",
   "metadata": {},
   "outputs": [
    {
     "data": {
      "text/html": [
       "<div>\n",
       "<style scoped>\n",
       "    .dataframe tbody tr th:only-of-type {\n",
       "        vertical-align: middle;\n",
       "    }\n",
       "\n",
       "    .dataframe tbody tr th {\n",
       "        vertical-align: top;\n",
       "    }\n",
       "\n",
       "    .dataframe thead th {\n",
       "        text-align: right;\n",
       "    }\n",
       "</style>\n",
       "<table border=\"1\" class=\"dataframe\">\n",
       "  <thead>\n",
       "    <tr style=\"text-align: right;\">\n",
       "      <th></th>\n",
       "      <th>Month</th>\n",
       "      <th>Region</th>\n",
       "      <th>Manager</th>\n",
       "      <th>Sales_before_digital_add(in $)</th>\n",
       "      <th>Sales_After_digital_add(in $)</th>\n",
       "    </tr>\n",
       "  </thead>\n",
       "  <tbody>\n",
       "    <tr>\n",
       "      <th>0</th>\n",
       "      <td>Month-1</td>\n",
       "      <td>Region - A</td>\n",
       "      <td>Manager - A</td>\n",
       "      <td>132921</td>\n",
       "      <td>270390</td>\n",
       "    </tr>\n",
       "    <tr>\n",
       "      <th>1</th>\n",
       "      <td>Month-2</td>\n",
       "      <td>Region - A</td>\n",
       "      <td>Manager - C</td>\n",
       "      <td>149559</td>\n",
       "      <td>223334</td>\n",
       "    </tr>\n",
       "    <tr>\n",
       "      <th>2</th>\n",
       "      <td>Month-3</td>\n",
       "      <td>Region - B</td>\n",
       "      <td>Manager - A</td>\n",
       "      <td>146278</td>\n",
       "      <td>244243</td>\n",
       "    </tr>\n",
       "    <tr>\n",
       "      <th>3</th>\n",
       "      <td>Month-4</td>\n",
       "      <td>Region - B</td>\n",
       "      <td>Manager - B</td>\n",
       "      <td>152167</td>\n",
       "      <td>231808</td>\n",
       "    </tr>\n",
       "    <tr>\n",
       "      <th>4</th>\n",
       "      <td>Month-5</td>\n",
       "      <td>Region - C</td>\n",
       "      <td>Manager - B</td>\n",
       "      <td>159525</td>\n",
       "      <td>258402</td>\n",
       "    </tr>\n",
       "  </tbody>\n",
       "</table>\n",
       "</div>"
      ],
      "text/plain": [
       "     Month      Region      Manager  Sales_before_digital_add(in $)  \\\n",
       "0  Month-1  Region - A  Manager - A                          132921   \n",
       "1  Month-2  Region - A  Manager - C                          149559   \n",
       "2  Month-3  Region - B  Manager - A                          146278   \n",
       "3  Month-4  Region - B  Manager - B                          152167   \n",
       "4  Month-5  Region - C  Manager - B                          159525   \n",
       "\n",
       "   Sales_After_digital_add(in $)  \n",
       "0                         270390  \n",
       "1                         223334  \n",
       "2                         244243  \n",
       "3                         231808  \n",
       "4                         258402  "
      ]
     },
     "execution_count": 3,
     "metadata": {},
     "output_type": "execute_result"
    }
   ],
   "source": [
    "data.head()\n"
   ]
  },
  {
   "cell_type": "markdown",
   "id": "d4cdc3ad",
   "metadata": {},
   "source": [
    "## ● The company wishes to clarify whether there is any increase in sales after stepping into digital marketing"
   ]
  },
  {
   "cell_type": "markdown",
   "id": "4c393823",
   "metadata": {},
   "source": [
    "### Subsetting the Data"
   ]
  },
  {
   "cell_type": "markdown",
   "id": "66e2729a",
   "metadata": {},
   "source": [
    "Before calculating some descriptive statistics, we will subset the data."
   ]
  },
  {
   "cell_type": "code",
   "execution_count": 4,
   "id": "22f7886c",
   "metadata": {},
   "outputs": [],
   "source": [
    "bdata = data['Sales_before_digital_add(in $)']\n",
    "adata = data['Sales_After_digital_add(in $)']"
   ]
  },
  {
   "cell_type": "markdown",
   "id": "f8f75881",
   "metadata": {},
   "source": [
    "●bdata = Sales before     "
   ]
  },
  {
   "cell_type": "markdown",
   "id": "154cfcc9",
   "metadata": {},
   "source": [
    "●adata = Sales after"
   ]
  },
  {
   "cell_type": "markdown",
   "id": "58921d7c",
   "metadata": {},
   "source": [
    "### Numerical/Statistical analysis of the dataset"
   ]
  },
  {
   "cell_type": "code",
   "execution_count": 5,
   "id": "1cfd081e",
   "metadata": {},
   "outputs": [
    {
     "data": {
      "text/plain": [
       "count        22.000000\n",
       "mean     231123.727273\n",
       "std       25556.777061\n",
       "min      187305.000000\n",
       "25%      214960.750000\n",
       "50%      229986.500000\n",
       "75%      250909.000000\n",
       "max      276279.000000\n",
       "Name: Sales_After_digital_add(in $), dtype: float64"
      ]
     },
     "execution_count": 5,
     "metadata": {},
     "output_type": "execute_result"
    }
   ],
   "source": [
    "adata.describe()"
   ]
  },
  {
   "cell_type": "markdown",
   "id": "bb9c52f2",
   "metadata": {},
   "source": [
    "Inference : Average Sales after adding digital marketing is ₹ 231124"
   ]
  },
  {
   "cell_type": "code",
   "execution_count": 6,
   "id": "faf95e63",
   "metadata": {},
   "outputs": [
    {
     "data": {
      "text/plain": [
       "count        22.000000\n",
       "mean     149239.954545\n",
       "std       14844.042921\n",
       "min      130263.000000\n",
       "25%      138087.750000\n",
       "50%      147444.000000\n",
       "75%      157627.500000\n",
       "max      178939.000000\n",
       "Name: Sales_before_digital_add(in $), dtype: float64"
      ]
     },
     "execution_count": 6,
     "metadata": {},
     "output_type": "execute_result"
    }
   ],
   "source": [
    "bdata.describe()"
   ]
  },
  {
   "cell_type": "markdown",
   "id": "20aefa1d",
   "metadata": {},
   "source": [
    "Inference : Average Sales before adding digital marketing is ₹  149240"
   ]
  },
  {
   "cell_type": "markdown",
   "id": "4f248676",
   "metadata": {},
   "source": [
    "### Hypothesis"
   ]
  },
  {
   "cell_type": "markdown",
   "id": "fc9ab7e8",
   "metadata": {},
   "source": [
    "Let’s decide null and alternate hypothesis"
   ]
  },
  {
   "cell_type": "markdown",
   "id": "467372ff",
   "metadata": {},
   "source": [
    "###### Null Hypothesis - No change in Sales after investing in digital marketing."
   ]
  },
  {
   "cell_type": "markdown",
   "id": "815c35e1",
   "metadata": {},
   "source": [
    "###### Alternate Hypothesis - There is an increase in Sales after investing in digital marketing."
   ]
  },
  {
   "cell_type": "markdown",
   "id": "f4bbd68e",
   "metadata": {},
   "source": [
    "###### Alpha = 5% or 0.05"
   ]
  },
  {
   "cell_type": "markdown",
   "id": "8df31338",
   "metadata": {},
   "source": [
    "Two-sample t-test using SciPy:"
   ]
  },
  {
   "cell_type": "code",
   "execution_count": 7,
   "id": "2d1ede14",
   "metadata": {},
   "outputs": [
    {
     "data": {
      "text/plain": [
       "2.614368006904645e-16"
      ]
     },
     "metadata": {},
     "output_type": "display_data"
    },
    {
     "name": "stdout",
     "output_type": "stream",
     "text": [
      "Reject null hypothesis\n"
     ]
    }
   ],
   "source": [
    "ttest,res = stats.ttest_ind(adata, bdata, \n",
    "                      equal_var=True)\n",
    "\n",
    "display(res)\n",
    "if res <0.05:\n",
    "    print(\"Reject null hypothesis\")\n",
    "else:\n",
    "    print(\"Accept null hypothesis\")"
   ]
  },
  {
   "cell_type": "markdown",
   "id": "aa9e2378",
   "metadata": {},
   "source": [
    "Inference : Here, we reject the null Hypothesis. It means we accept the alternative hypothesis that the sales is increased after investing into digital marketing."
   ]
  },
  {
   "cell_type": "markdown",
   "id": "cb480df6",
   "metadata": {},
   "source": [
    "### ● The company needs to check whether there is any dependency between the features “Region” and “Manager”.\n"
   ]
  },
  {
   "cell_type": "markdown",
   "id": "ddfb3503",
   "metadata": {},
   "source": [
    "#### CHI-SQUARE (x²) TEST OF INDEPENDENCE"
   ]
  },
  {
   "cell_type": "markdown",
   "id": "471fa9ec",
   "metadata": {},
   "source": [
    "Before testing this relationship, let's see some basic univariate statistics."
   ]
  },
  {
   "cell_type": "code",
   "execution_count": 8,
   "id": "553f298b",
   "metadata": {},
   "outputs": [
    {
     "data": {
      "text/html": [
       "<div>\n",
       "<style scoped>\n",
       "    .dataframe tbody tr th:only-of-type {\n",
       "        vertical-align: middle;\n",
       "    }\n",
       "\n",
       "    .dataframe tbody tr th {\n",
       "        vertical-align: top;\n",
       "    }\n",
       "\n",
       "    .dataframe thead th {\n",
       "        text-align: right;\n",
       "    }\n",
       "</style>\n",
       "<table border=\"1\" class=\"dataframe\">\n",
       "  <thead>\n",
       "    <tr style=\"text-align: right;\">\n",
       "      <th></th>\n",
       "      <th>Variable</th>\n",
       "      <th>Outcome</th>\n",
       "      <th>Count</th>\n",
       "      <th>Percent</th>\n",
       "    </tr>\n",
       "  </thead>\n",
       "  <tbody>\n",
       "    <tr>\n",
       "      <th>0</th>\n",
       "      <td>Region</td>\n",
       "      <td>Region - A</td>\n",
       "      <td>10</td>\n",
       "      <td>45.45</td>\n",
       "    </tr>\n",
       "    <tr>\n",
       "      <th>1</th>\n",
       "      <td></td>\n",
       "      <td>Region - B</td>\n",
       "      <td>7</td>\n",
       "      <td>31.82</td>\n",
       "    </tr>\n",
       "    <tr>\n",
       "      <th>2</th>\n",
       "      <td></td>\n",
       "      <td>Region - C</td>\n",
       "      <td>5</td>\n",
       "      <td>22.73</td>\n",
       "    </tr>\n",
       "    <tr>\n",
       "      <th>3</th>\n",
       "      <td>Manager</td>\n",
       "      <td>Manager - A</td>\n",
       "      <td>9</td>\n",
       "      <td>40.91</td>\n",
       "    </tr>\n",
       "    <tr>\n",
       "      <th>4</th>\n",
       "      <td></td>\n",
       "      <td>Manager - B</td>\n",
       "      <td>7</td>\n",
       "      <td>31.82</td>\n",
       "    </tr>\n",
       "    <tr>\n",
       "      <th>5</th>\n",
       "      <td></td>\n",
       "      <td>Manager - C</td>\n",
       "      <td>6</td>\n",
       "      <td>27.27</td>\n",
       "    </tr>\n",
       "  </tbody>\n",
       "</table>\n",
       "</div>"
      ],
      "text/plain": [
       "  Variable      Outcome  Count  Percent\n",
       "0   Region   Region - A     10    45.45\n",
       "1            Region - B      7    31.82\n",
       "2            Region - C      5    22.73\n",
       "3  Manager  Manager - A      9    40.91\n",
       "4           Manager - B      7    31.82\n",
       "5           Manager - C      6    27.27"
      ]
     },
     "execution_count": 8,
     "metadata": {},
     "output_type": "execute_result"
    }
   ],
   "source": [
    "rp.summary_cat(data[[\"Region\", \"Manager\"]])"
   ]
  },
  {
   "cell_type": "markdown",
   "id": "fef344a7",
   "metadata": {},
   "source": [
    "The data is majority in the Region A while the Manager count are fairly similar except for the Manager - A having the highest  population."
   ]
  },
  {
   "cell_type": "markdown",
   "id": "e5c4f55e",
   "metadata": {},
   "source": [
    "### CHI-SQUARE TEST OF INDEPENDENCE WITH SCIPY.STATS\n",
    "The method that needs to be used is scipy.stats.chi2_contingency and it's official documentation can be found here. This method requires one to pass a crosstabulation table, this can be accomplished using pandas.crosstab."
   ]
  },
  {
   "cell_type": "code",
   "execution_count": 9,
   "id": "500c8288",
   "metadata": {},
   "outputs": [
    {
     "data": {
      "text/html": [
       "<div>\n",
       "<style scoped>\n",
       "    .dataframe tbody tr th:only-of-type {\n",
       "        vertical-align: middle;\n",
       "    }\n",
       "\n",
       "    .dataframe tbody tr th {\n",
       "        vertical-align: top;\n",
       "    }\n",
       "\n",
       "    .dataframe thead th {\n",
       "        text-align: right;\n",
       "    }\n",
       "</style>\n",
       "<table border=\"1\" class=\"dataframe\">\n",
       "  <thead>\n",
       "    <tr style=\"text-align: right;\">\n",
       "      <th>Manager</th>\n",
       "      <th>Manager - A</th>\n",
       "      <th>Manager - B</th>\n",
       "      <th>Manager - C</th>\n",
       "    </tr>\n",
       "    <tr>\n",
       "      <th>Region</th>\n",
       "      <th></th>\n",
       "      <th></th>\n",
       "      <th></th>\n",
       "    </tr>\n",
       "  </thead>\n",
       "  <tbody>\n",
       "    <tr>\n",
       "      <th>Region - A</th>\n",
       "      <td>4</td>\n",
       "      <td>3</td>\n",
       "      <td>3</td>\n",
       "    </tr>\n",
       "    <tr>\n",
       "      <th>Region - B</th>\n",
       "      <td>4</td>\n",
       "      <td>1</td>\n",
       "      <td>2</td>\n",
       "    </tr>\n",
       "    <tr>\n",
       "      <th>Region - C</th>\n",
       "      <td>1</td>\n",
       "      <td>3</td>\n",
       "      <td>1</td>\n",
       "    </tr>\n",
       "  </tbody>\n",
       "</table>\n",
       "</div>"
      ],
      "text/plain": [
       "Manager     Manager - A  Manager - B  Manager - C\n",
       "Region                                           \n",
       "Region - A            4            3            3\n",
       "Region - B            4            1            2\n",
       "Region - C            1            3            1"
      ]
     },
     "execution_count": 9,
     "metadata": {},
     "output_type": "execute_result"
    }
   ],
   "source": [
    "crosstab = pd.crosstab(data[\"Region\"], data[\"Manager\"])\n",
    "\n",
    "crosstab"
   ]
  },
  {
   "cell_type": "markdown",
   "id": "11993ee2",
   "metadata": {},
   "source": [
    "### Hypothesis\n"
   ]
  },
  {
   "cell_type": "markdown",
   "id": "c71fdb3d",
   "metadata": {},
   "source": [
    "Let’s decide null and alternate hypothesis"
   ]
  },
  {
   "cell_type": "markdown",
   "id": "36cb4966",
   "metadata": {},
   "source": [
    "###### Null Hypothesis - No dependency between the features “Region” and “Manager”."
   ]
  },
  {
   "cell_type": "markdown",
   "id": "eb5020d0",
   "metadata": {},
   "source": [
    "###### Alternate Hypothesis - Dependency between the features “Region” and “Manager”."
   ]
  },
  {
   "cell_type": "markdown",
   "id": "f3a476ea",
   "metadata": {},
   "source": [
    "###### Alpha = 5% or 0.05"
   ]
  },
  {
   "cell_type": "code",
   "execution_count": 10,
   "id": "0a82b1ca",
   "metadata": {},
   "outputs": [],
   "source": [
    "stats.chi2_contingency(crosstab)\n",
    "stat, pv, dof, expected=chi2_contingency(crosstab)"
   ]
  },
  {
   "cell_type": "code",
   "execution_count": 11,
   "id": "6a4d1dbf",
   "metadata": {},
   "outputs": [
    {
     "name": "stdout",
     "output_type": "stream",
     "text": [
      "(3.050566893424036, 0.5493991051158094, 4)\n",
      "Here the pv value is 0.5493991051158094\n",
      "Independent H0 holds true\n"
     ]
    }
   ],
   "source": [
    "print(chi2_contingency(crosstab)[0:3])\n",
    "alpha = 0.05\n",
    "print(\"Here the pv value is \" + str(pv))\n",
    "if pv <= alpha:\n",
    "    print('Dependent reject H0')\n",
    "else:\n",
    "    print('Independent H0 holds true')"
   ]
  },
  {
   "cell_type": "markdown",
   "id": "706106d8",
   "metadata": {},
   "source": [
    "Inference : Here, we accept the null hypothesis, that means there is no dependency between the features “Region” and “Manager”. "
   ]
  },
  {
   "cell_type": "markdown",
   "id": "ca4e3aa7",
   "metadata": {},
   "source": [
    "# - - - - - - - - - - - - - - - - - - - - - - - - - - - - - - - - - - - - - - - - - - - - - - - - - - - "
   ]
  }
 ],
 "metadata": {
  "kernelspec": {
   "display_name": "Python 3",
   "language": "python",
   "name": "python3"
  },
  "language_info": {
   "codemirror_mode": {
    "name": "ipython",
    "version": 3
   },
   "file_extension": ".py",
   "mimetype": "text/x-python",
   "name": "python",
   "nbconvert_exporter": "python",
   "pygments_lexer": "ipython3",
   "version": "3.8.8"
  }
 },
 "nbformat": 4,
 "nbformat_minor": 5
}
